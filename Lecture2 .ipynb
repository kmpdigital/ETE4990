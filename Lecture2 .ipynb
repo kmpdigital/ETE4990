{
 "cells": [
  {
   "cell_type": "markdown",
   "id": "9937793f",
   "metadata": {},
   "source": [
    "# Variables\n"
   ]
  },
  {
   "cell_type": "markdown",
   "id": "47d732d4",
   "metadata": {},
   "source": [
    "Variables are containers for storing data values. \n",
    "\n",
    "Creating variables in Python is very simple: we type the name of the variable, then an equals sign, then put the value that we are assigning to that variable on the right of equals sign.\n",
    "\n",
    "A variable in Python can hold any type of data, this could be a primitive value (a number or\n",
    "character), or an object (a string, sprite, list, etc)."
   ]
  },
  {
   "cell_type": "code",
   "execution_count": 34,
   "id": "76a126d9",
   "metadata": {},
   "outputs": [],
   "source": [
    "score = 0\n",
    "name = \"Mr. Powers\"\n",
    "aList = [1, 2, 3, 4, 5]\n",
    "aTuple = (1, 2, 3, 4, 5)"
   ]
  },
  {
   "cell_type": "markdown",
   "id": "7f7842a3",
   "metadata": {},
   "source": [
    "## Rules of Variables\n",
    "\n",
    "    Variable names can contain only letters, numbers, and underscores. \n",
    "    \n",
    "    Note: They can start with a letter or an underscore, but not with a number."
   ]
  },
  {
   "cell_type": "code",
   "execution_count": 2,
   "id": "b6648fa2",
   "metadata": {},
   "outputs": [],
   "source": [
    "message_1 = \"correct\""
   ]
  },
  {
   "cell_type": "code",
   "execution_count": 3,
   "id": "11840ba0",
   "metadata": {},
   "outputs": [
    {
     "ename": "SyntaxError",
     "evalue": "invalid decimal literal (2351394542.py, line 1)",
     "output_type": "error",
     "traceback": [
      "\u001b[0;36m  File \u001b[0;32m\"/var/folders/6c/phtqtltd4wn1pydbmzp55knr0000gp/T/ipykernel_16294/2351394542.py\"\u001b[0;36m, line \u001b[0;32m1\u001b[0m\n\u001b[0;31m    1_message = \"incorrect\"\u001b[0m\n\u001b[0m     ^\u001b[0m\n\u001b[0;31mSyntaxError\u001b[0m\u001b[0;31m:\u001b[0m invalid decimal literal\n"
     ]
    }
   ],
   "source": [
    "1_message = \"incorrect\""
   ]
  },
  {
   "cell_type": "code",
   "execution_count": 4,
   "id": "9962f1bb",
   "metadata": {},
   "outputs": [
    {
     "ename": "NameError",
     "evalue": "name 'message2' is not defined",
     "output_type": "error",
     "traceback": [
      "\u001b[0;31m---------------------------------------------------------------------------\u001b[0m",
      "\u001b[0;31mNameError\u001b[0m                                 Traceback (most recent call last)",
      "\u001b[0;32m/var/folders/6c/phtqtltd4wn1pydbmzp55knr0000gp/T/ipykernel_16294/3982922180.py\u001b[0m in \u001b[0;36m<module>\u001b[0;34m\u001b[0m\n\u001b[0;32m----> 1\u001b[0;31m \u001b[0mmessage2\u001b[0m\u001b[0;34m@=\u001b[0m\u001b[0;34m\"incorrect\"\u001b[0m\u001b[0;34m\u001b[0m\u001b[0;34m\u001b[0m\u001b[0m\n\u001b[0m",
      "\u001b[0;31mNameError\u001b[0m: name 'message2' is not defined"
     ]
    }
   ],
   "source": [
    "message2@=\"incorrect\""
   ]
  },
  {
   "cell_type": "markdown",
   "id": "762d5ed6",
   "metadata": {},
   "source": [
    "    Spaces are not allowed in variable names, but underscores can be used to separate words in variable names."
   ]
  },
  {
   "cell_type": "code",
   "execution_count": 5,
   "id": "81a9c930",
   "metadata": {},
   "outputs": [
    {
     "ename": "SyntaxError",
     "evalue": "invalid syntax (3216836115.py, line 2)",
     "output_type": "error",
     "traceback": [
      "\u001b[0;36m  File \u001b[0;32m\"/var/folders/6c/phtqtltd4wn1pydbmzp55knr0000gp/T/ipykernel_16294/3216836115.py\"\u001b[0;36m, line \u001b[0;32m2\u001b[0m\n\u001b[0;31m    greeting message = \"incorrect\"\u001b[0m\n\u001b[0m             ^\u001b[0m\n\u001b[0;31mSyntaxError\u001b[0m\u001b[0;31m:\u001b[0m invalid syntax\n"
     ]
    }
   ],
   "source": [
    "greeting_message = \"correct\"\n",
    "greeting message = \"incorrect\""
   ]
  },
  {
   "cell_type": "markdown",
   "id": "b848f22a",
   "metadata": {},
   "source": [
    "    Avoid using Python keywords and function names as variable names; \n",
    "    Do not use words that Python has reserved for a particular programmatic purpose\n",
    "| | | | | |\n",
    "|:---|:---|:---|:---|:---|\n",
    "|False| class| finally|is|return|\n",
    "|None|continue|for|lambda|try|\n",
    "|True|def|from|nonlocal|while|\n",
    "|and|del|global|not|with|\n",
    "|as|elif|if|or|yield|\n",
    "|assert|else|import|pass| |\n",
    "|break|except|in|raise| |\n"
   ]
  },
  {
   "cell_type": "code",
   "execution_count": 6,
   "id": "0e694628",
   "metadata": {},
   "outputs": [
    {
     "name": "stdout",
     "output_type": "stream",
     "text": [
      "blabla\n"
     ]
    }
   ],
   "source": [
    "#print=\"Correct but dont use\"\n",
    "print(\"blabla\")\n",
    "#and = \"incorrect\""
   ]
  },
  {
   "cell_type": "markdown",
   "id": "5becda08",
   "metadata": {},
   "source": [
    "    Variable names should be short but descriptive. For example, name is better than n, student_name is better than s_n, and name_length is better than length_of_persons_name.\n"
   ]
  },
  {
   "cell_type": "code",
   "execution_count": 8,
   "id": "808f22a7",
   "metadata": {},
   "outputs": [],
   "source": [
    "n = \"bad\"\n",
    "name = \"good\"\n",
    "s = \"bad\"\n",
    "s_n = \"bad\"\n",
    "student_name = \"good\"\n",
    "length_of_persons_name = \"ok\"\n",
    "name_length = 'better'"
   ]
  },
  {
   "cell_type": "markdown",
   "id": "92b25921",
   "metadata": {},
   "source": [
    "    Be careful when using the lowercase letter l and the uppercase letter O because they could be confused with the numbers 1 and 0."
   ]
  },
  {
   "cell_type": "code",
   "execution_count": 10,
   "id": "8f41d5e7",
   "metadata": {},
   "outputs": [
    {
     "ename": "NameError",
     "evalue": "name 'mesage' is not defined",
     "output_type": "error",
     "traceback": [
      "\u001b[0;31m---------------------------------------------------------------------------\u001b[0m",
      "\u001b[0;31mNameError\u001b[0m                                 Traceback (most recent call last)",
      "\u001b[0;32m/var/folders/6c/phtqtltd4wn1pydbmzp55knr0000gp/T/ipykernel_16294/1351851375.py\u001b[0m in \u001b[0;36m<module>\u001b[0;34m\u001b[0m\n\u001b[1;32m      1\u001b[0m \u001b[0mmessage\u001b[0m \u001b[0;34m=\u001b[0m \u001b[0;34m\"this will not work\"\u001b[0m\u001b[0;34m\u001b[0m\u001b[0;34m\u001b[0m\u001b[0m\n\u001b[0;32m----> 2\u001b[0;31m \u001b[0mprint\u001b[0m\u001b[0;34m(\u001b[0m\u001b[0mmesage\u001b[0m\u001b[0;34m)\u001b[0m\u001b[0;34m\u001b[0m\u001b[0;34m\u001b[0m\u001b[0m\n\u001b[0m",
      "\u001b[0;31mNameError\u001b[0m: name 'mesage' is not defined"
     ]
    }
   ],
   "source": [
    "message = \"this will not work\"\n",
    "print(mesage)"
   ]
  },
  {
   "cell_type": "code",
   "execution_count": 15,
   "id": "38aa75ab",
   "metadata": {},
   "outputs": [
    {
     "name": "stdout",
     "output_type": "stream",
     "text": [
      "HELLO ETE 4990!\n",
      "You can also do this HELLO ETE 4990!\n",
      "Hello Ete 4990!\n",
      "10\n"
     ]
    }
   ],
   "source": [
    "mesage = 'HELLO ETE 4990!'\n",
    "print(mesage)\n",
    "print(\"You can also do this\", mesage)\n",
    "print(mesage.title())\n",
    "print(mesage.find(\"4\"))"
   ]
  },
  {
   "cell_type": "markdown",
   "id": "61bae8ed",
   "metadata": {},
   "source": [
    "## Methods"
   ]
  },
  {
   "cell_type": "markdown",
   "id": "75082dc9",
   "metadata": {},
   "source": [
    "A method is an action that Python can perform on a piece of data. \n",
    "\n",
    "The dot after the mesage tells Python to perform the title() method on the variable. \n",
    "\n",
    "It is important to note that a method is allwas followed by a set of parentheses. In many cases the method needs additional information to perform an action. \n",
    "\n",
    "In this case the parentheses are empty but wat about the method print()\n"
   ]
  },
  {
   "cell_type": "markdown",
   "id": "397bcb40",
   "metadata": {},
   "source": [
    "# Print Statments"
   ]
  },
  {
   "cell_type": "code",
   "execution_count": 16,
   "id": "97e8c1b6",
   "metadata": {},
   "outputs": [
    {
     "name": "stdout",
     "output_type": "stream",
     "text": [
      "Score:  0 <class 'int'>   Name:  good <class 'str'>   A List: [1, 2, 3, 4, 5] <class 'list'>   A Tuple: (1, 2, 3, 4, 5) <class 'tuple'>\n",
      "\tScore:\t 0 <class 'int'>\n",
      "\tName:\t good <class 'str'>\n",
      "\tA List:\t [1, 2, 3, 4, 5] <class 'list'>\n",
      "\tA Tuple: (1, 2, 3, 4, 5) <class 'tuple'>\n"
     ]
    }
   ],
   "source": [
    "print(\"Score: \", score, type(score),\"  Name: \", name, type(name), \n",
    "      \"  A List:\", aList, type(aList), \"  A Tuple:\", aTuple, type(aTuple))\n",
    "print(\"\\tScore:\\t\", score, type(score))\n",
    "print(\"\\tName:\\t\", name, type(name))\n",
    "print(\"\\tA List:\\t\", aList, type(aList))\n",
    "print(\"\\tA Tuple:\", aTuple, type(aTuple))"
   ]
  },
  {
   "cell_type": "code",
   "execution_count": 17,
   "id": "04231f85",
   "metadata": {},
   "outputs": [
    {
     "name": "stdout",
     "output_type": "stream",
     "text": [
      "good0\n"
     ]
    }
   ],
   "source": [
    "print(name + str(score))"
   ]
  },
  {
   "cell_type": "markdown",
   "id": "6cbf0c51",
   "metadata": {},
   "source": [
    "## Global and Local variables"
   ]
  },
  {
   "cell_type": "markdown",
   "id": "c50ed63e",
   "metadata": {},
   "source": [
    "In Python it is fairly simple to create and assign values to variables, however it is a little more complex to use them. Here we will discuss what is known as scope .\n",
    "\n",
    "Scope is the area of code in a program where a certain (variable) name is valid, meaning itcan be used.\n",
    "\n",
    "Mainly there are 2 types of scopes for variables Global and Local"
   ]
  },
  {
   "cell_type": "code",
   "execution_count": 45,
   "id": "d4049f95",
   "metadata": {},
   "outputs": [],
   "source": [
    "def change_score():\n",
    "    #score = 0\n",
    "    global score \n",
    "    score+=1\n",
    "    print(score)"
   ]
  },
  {
   "cell_type": "code",
   "execution_count": 46,
   "id": "67561522",
   "metadata": {},
   "outputs": [
    {
     "name": "stdout",
     "output_type": "stream",
     "text": [
      "0\n",
      "1\n",
      "1\n"
     ]
    }
   ],
   "source": [
    "print(score)\n",
    "change_score()\n",
    "print(score)"
   ]
  },
  {
   "cell_type": "markdown",
   "id": "a41928b2",
   "metadata": {},
   "source": [
    "## if statments"
   ]
  },
  {
   "cell_type": "markdown",
   "id": "ebbe1680",
   "metadata": {},
   "source": [
    "An If statment is the heart of every function. It is a conditional test and it uses the values of True and False to deside to exicute the code. "
   ]
  },
  {
   "cell_type": "code",
   "execution_count": 35,
   "id": "14ae4b21",
   "metadata": {},
   "outputs": [
    {
     "data": {
      "text/plain": [
       "True"
      ]
     },
     "execution_count": 35,
     "metadata": {},
     "output_type": "execute_result"
    }
   ],
   "source": [
    "name == \"Mr. Powers\""
   ]
  },
  {
   "cell_type": "code",
   "execution_count": 36,
   "id": "4432f037",
   "metadata": {},
   "outputs": [
    {
     "data": {
      "text/plain": [
       "False"
      ]
     },
     "execution_count": 36,
     "metadata": {},
     "output_type": "execute_result"
    }
   ],
   "source": [
    "name == \"MR. Powers\""
   ]
  },
  {
   "cell_type": "code",
   "execution_count": 37,
   "id": "bef4faff",
   "metadata": {},
   "outputs": [
    {
     "data": {
      "text/plain": [
       "True"
      ]
     },
     "execution_count": 37,
     "metadata": {},
     "output_type": "execute_result"
    }
   ],
   "source": [
    "name.lower() == \"mr. powers\""
   ]
  },
  {
   "cell_type": "code",
   "execution_count": null,
   "id": "70611719",
   "metadata": {},
   "outputs": [],
   "source": [
    "print(name)"
   ]
  },
  {
   "cell_type": "markdown",
   "id": "48956241",
   "metadata": {},
   "source": [
    "An if statment has the following setup\n",
    "\n",
    "```python\n",
    "    if conditional_test:\n",
    "       do something \n",
    "```"
   ]
  },
  {
   "cell_type": "code",
   "execution_count": 38,
   "id": "2af03b16",
   "metadata": {},
   "outputs": [
    {
     "name": "stdout",
     "output_type": "stream",
     "text": [
      "you are not a famous TV star\n"
     ]
    }
   ],
   "source": [
    "if name != \"Bill Nie\":\n",
    "    print(\"you are not a famous TV star\")"
   ]
  },
  {
   "cell_type": "code",
   "execution_count": 47,
   "id": "bf2d0c14",
   "metadata": {},
   "outputs": [
    {
     "name": "stdout",
     "output_type": "stream",
     "text": [
      "score is not 0\n"
     ]
    }
   ],
   "source": [
    "if score !=0:\n",
    "    print(\"score is not 0\")\n",
    "else:\n",
    "    print(\"score is 0\")"
   ]
  },
  {
   "cell_type": "code",
   "execution_count": 63,
   "id": "7007b23c",
   "metadata": {},
   "outputs": [
    {
     "name": "stdout",
     "output_type": "stream",
     "text": [
      "True\n",
      "False\n",
      "True\n",
      "False\n"
     ]
    }
   ],
   "source": [
    "score+=1\n",
    "print(score>=0)\n",
    "print(score<0)\n",
    "print(score>0)\n",
    "print(\"Hello\" ==\"olleH\")"
   ]
  },
  {
   "cell_type": "code",
   "execution_count": 65,
   "id": "aa7e30ca",
   "metadata": {},
   "outputs": [
    {
     "name": "stdout",
     "output_type": "stream",
     "text": [
      "True\n",
      "False\n",
      "False\n"
     ]
    }
   ],
   "source": [
    "print(score>=0 and aList[0]==1)\n",
    "print(True and False)\n",
    "print(False and False)\n"
   ]
  },
  {
   "cell_type": "code",
   "execution_count": 66,
   "id": "ba661754",
   "metadata": {},
   "outputs": [
    {
     "data": {
      "text/plain": [
       "True"
      ]
     },
     "execution_count": 66,
     "metadata": {},
     "output_type": "execute_result"
    }
   ],
   "source": [
    "2 in aList"
   ]
  },
  {
   "cell_type": "code",
   "execution_count": 67,
   "id": "7fea6c39",
   "metadata": {},
   "outputs": [
    {
     "data": {
      "text/plain": [
       "False"
      ]
     },
     "execution_count": 67,
     "metadata": {},
     "output_type": "execute_result"
    }
   ],
   "source": [
    "6 in aList"
   ]
  },
  {
   "cell_type": "code",
   "execution_count": 79,
   "id": "74ff4322",
   "metadata": {},
   "outputs": [
    {
     "name": "stdout",
     "output_type": "stream",
     "text": [
      "six is in aList\n"
     ]
    }
   ],
   "source": [
    "if 6 not in aTuple:\n",
    "    print(\"six is not in aList\")\n",
    "else:\n",
    "    print(\"six is in aList\")"
   ]
  },
  {
   "cell_type": "code",
   "execution_count": 78,
   "id": "9382703e",
   "metadata": {},
   "outputs": [],
   "source": [
    "aTuple=(6,3)\n"
   ]
  },
  {
   "cell_type": "code",
   "execution_count": 2,
   "id": "27d693e3",
   "metadata": {},
   "outputs": [
    {
     "ename": "SyntaxError",
     "evalue": "invalid syntax (1465213360.py, line 1)",
     "output_type": "error",
     "traceback": [
      "\u001b[0;36m  Cell \u001b[0;32mIn[2], line 1\u001b[0;36m\u001b[0m\n\u001b[0;31m    jupytext --to Lecture2 notebook.py\u001b[0m\n\u001b[0m                  ^\u001b[0m\n\u001b[0;31mSyntaxError\u001b[0m\u001b[0;31m:\u001b[0m invalid syntax\n"
     ]
    }
   ],
   "source": [
    "jupytext --to Lecture2 notebook.py"
   ]
  },
  {
   "cell_type": "code",
   "execution_count": null,
   "id": "deb5335e-7d3f-4a67-8e20-5ba2c3b99969",
   "metadata": {},
   "outputs": [],
   "source": []
  }
 ],
 "metadata": {
  "kernelspec": {
   "display_name": "Python 3 (ipykernel)",
   "language": "python",
   "name": "python3"
  },
  "language_info": {
   "codemirror_mode": {
    "name": "ipython",
    "version": 3
   },
   "file_extension": ".py",
   "mimetype": "text/x-python",
   "name": "python",
   "nbconvert_exporter": "python",
   "pygments_lexer": "ipython3",
   "version": "3.11.2"
  }
 },
 "nbformat": 4,
 "nbformat_minor": 5
}
